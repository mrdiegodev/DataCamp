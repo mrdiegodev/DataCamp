{
 "cells": [
  {
   "cell_type": "markdown",
   "id": "b4f0419e-3a26-4592-837c-340c055560d6",
   "metadata": {},
   "source": [
    "#NUMPY"
   ]
  },
  {
   "cell_type": "code",
   "execution_count": 14,
   "id": "e4f35711-b8a4-4e91-9480-ae866fe6d53f",
   "metadata": {},
   "outputs": [],
   "source": [
    "import numpy as np\n",
    "\n",
    "height = [1.73, 1.80, 1.96, 1.78, 1.96]\n",
    "weight = [65.4, 96.5, 78.6, 88.5, 72]\n"
   ]
  },
  {
   "cell_type": "code",
   "execution_count": 15,
   "id": "8963a4f4-7410-49ad-868a-426f32dd3a75",
   "metadata": {},
   "outputs": [
    {
     "name": "stdout",
     "output_type": "stream",
     "text": [
      "[1.73 1.8  1.96 1.78 1.96]\n",
      "[65.4 96.5 78.6 88.5 72. ]\n"
     ]
    }
   ],
   "source": [
    "np_height = np.array(height)\n",
    "print(np_height)\n",
    "np_weight = np.array(weight)\n",
    "print(np_weight)"
   ]
  },
  {
   "cell_type": "code",
   "execution_count": 16,
   "id": "944dca33-1213-4ad8-aee9-9e03538c2e7d",
   "metadata": {},
   "outputs": [
    {
     "data": {
      "text/plain": [
       "array([21.85171573, 29.78395062, 20.46022491, 27.93207928, 18.74219075])"
      ]
     },
     "execution_count": 16,
     "metadata": {},
     "output_type": "execute_result"
    }
   ],
   "source": [
    "bmi = np_weight / np_height ** 2\n",
    "bmi"
   ]
  },
  {
   "cell_type": "code",
   "execution_count": 19,
   "id": "f8125bf1-0180-485f-a4c4-d5e3634208e5",
   "metadata": {},
   "outputs": [
    {
     "name": "stdout",
     "output_type": "stream",
     "text": [
      "[False  True False  True False]\n"
     ]
    }
   ],
   "source": [
    "bmi_23 = bmi > 23\n",
    "print(bmi_23)"
   ]
  },
  {
   "cell_type": "code",
   "execution_count": null,
   "id": "57472d83-5b10-42a9-9dc3-bc19d4699a20",
   "metadata": {},
   "outputs": [],
   "source": []
  }
 ],
 "metadata": {
  "kernelspec": {
   "display_name": "Python 3 (ipykernel)",
   "language": "python",
   "name": "python3"
  },
  "language_info": {
   "codemirror_mode": {
    "name": "ipython",
    "version": 3
   },
   "file_extension": ".py",
   "mimetype": "text/x-python",
   "name": "python",
   "nbconvert_exporter": "python",
   "pygments_lexer": "ipython3",
   "version": "3.12.1"
  }
 },
 "nbformat": 4,
 "nbformat_minor": 5
}
